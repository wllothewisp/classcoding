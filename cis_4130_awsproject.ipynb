{
 "cells": [
  {
   "cell_type": "code",
   "execution_count": null,
   "metadata": {
    "application/vnd.databricks.v1+cell": {
     "cellMetadata": {
      "byteLimit": 2048000,
      "rowLimit": 10000
     },
     "inputWidgets": {},
     "nuid": "375c2811-1440-4e7a-aaf7-a2b74ca6d339",
     "showTitle": false,
     "title": ""
    }
   },
   "outputs": [
    {
     "name": "stdout",
     "output_type": "stream",
     "text": [
      "Python interpreter will be restarted.\n",
      "Requirement already satisfied: textblob==0.17.1 in /local_disk0/.ephemeral_nfs/envs/pythonEnv-3d4fd213-1e0c-4153-aa87-6dfc8d818f11/lib/python3.9/site-packages (0.17.1)\n",
      "Requirement already satisfied: s3fs==2023.12.1 in /local_disk0/.ephemeral_nfs/envs/pythonEnv-3d4fd213-1e0c-4153-aa87-6dfc8d818f11/lib/python3.9/site-packages (2023.12.1)\n",
      "Requirement already satisfied: nltk>=3.1 in /local_disk0/.ephemeral_nfs/envs/pythonEnv-3d4fd213-1e0c-4153-aa87-6dfc8d818f11/lib/python3.9/site-packages (from textblob==0.17.1) (3.8.1)\n",
      "Requirement already satisfied: aiobotocore<3.0.0,>=2.5.4 in /local_disk0/.ephemeral_nfs/envs/pythonEnv-3d4fd213-1e0c-4153-aa87-6dfc8d818f11/lib/python3.9/site-packages (from s3fs==2023.12.1) (2.8.0)\n",
      "Requirement already satisfied: fsspec==2023.12.1 in /local_disk0/.ephemeral_nfs/envs/pythonEnv-3d4fd213-1e0c-4153-aa87-6dfc8d818f11/lib/python3.9/site-packages (from s3fs==2023.12.1) (2023.12.1)\n",
      "Requirement already satisfied: aiohttp!=4.0.0a0,!=4.0.0a1 in /local_disk0/.ephemeral_nfs/envs/pythonEnv-3d4fd213-1e0c-4153-aa87-6dfc8d818f11/lib/python3.9/site-packages (from s3fs==2023.12.1) (3.9.1)\n",
      "Requirement already satisfied: wrapt<2.0.0,>=1.10.10 in /local_disk0/.ephemeral_nfs/envs/pythonEnv-3d4fd213-1e0c-4153-aa87-6dfc8d818f11/lib/python3.9/site-packages (from aiobotocore<3.0.0,>=2.5.4->s3fs==2023.12.1) (1.16.0)\n",
      "Requirement already satisfied: aioitertools<1.0.0,>=0.5.1 in /local_disk0/.ephemeral_nfs/envs/pythonEnv-3d4fd213-1e0c-4153-aa87-6dfc8d818f11/lib/python3.9/site-packages (from aiobotocore<3.0.0,>=2.5.4->s3fs==2023.12.1) (0.11.0)\n",
      "Requirement already satisfied: botocore<1.33.2,>=1.32.4 in /local_disk0/.ephemeral_nfs/envs/pythonEnv-3d4fd213-1e0c-4153-aa87-6dfc8d818f11/lib/python3.9/site-packages (from aiobotocore<3.0.0,>=2.5.4->s3fs==2023.12.1) (1.33.1)\n",
      "Requirement already satisfied: frozenlist>=1.1.1 in /local_disk0/.ephemeral_nfs/envs/pythonEnv-3d4fd213-1e0c-4153-aa87-6dfc8d818f11/lib/python3.9/site-packages (from aiohttp!=4.0.0a0,!=4.0.0a1->s3fs==2023.12.1) (1.4.0)\n",
      "Requirement already satisfied: yarl<2.0,>=1.0 in /local_disk0/.ephemeral_nfs/envs/pythonEnv-3d4fd213-1e0c-4153-aa87-6dfc8d818f11/lib/python3.9/site-packages (from aiohttp!=4.0.0a0,!=4.0.0a1->s3fs==2023.12.1) (1.9.4)\n",
      "Requirement already satisfied: async-timeout<5.0,>=4.0 in /local_disk0/.ephemeral_nfs/envs/pythonEnv-3d4fd213-1e0c-4153-aa87-6dfc8d818f11/lib/python3.9/site-packages (from aiohttp!=4.0.0a0,!=4.0.0a1->s3fs==2023.12.1) (4.0.3)\n",
      "Requirement already satisfied: aiosignal>=1.1.2 in /local_disk0/.ephemeral_nfs/envs/pythonEnv-3d4fd213-1e0c-4153-aa87-6dfc8d818f11/lib/python3.9/site-packages (from aiohttp!=4.0.0a0,!=4.0.0a1->s3fs==2023.12.1) (1.3.1)\n",
      "Requirement already satisfied: multidict<7.0,>=4.5 in /local_disk0/.ephemeral_nfs/envs/pythonEnv-3d4fd213-1e0c-4153-aa87-6dfc8d818f11/lib/python3.9/site-packages (from aiohttp!=4.0.0a0,!=4.0.0a1->s3fs==2023.12.1) (6.0.4)\n",
      "Requirement already satisfied: attrs>=17.3.0 in /databricks/python3/lib/python3.9/site-packages (from aiohttp!=4.0.0a0,!=4.0.0a1->s3fs==2023.12.1) (21.4.0)\n",
      "Requirement already satisfied: typing_extensions>=4.0 in /databricks/python3/lib/python3.9/site-packages (from aioitertools<1.0.0,>=0.5.1->aiobotocore<3.0.0,>=2.5.4->s3fs==2023.12.1) (4.1.1)\n",
      "Requirement already satisfied: python-dateutil<3.0.0,>=2.1 in /databricks/python3/lib/python3.9/site-packages (from botocore<1.33.2,>=1.32.4->aiobotocore<3.0.0,>=2.5.4->s3fs==2023.12.1) (2.8.2)\n",
      "Requirement already satisfied: urllib3<1.27,>=1.25.4 in /databricks/python3/lib/python3.9/site-packages (from botocore<1.33.2,>=1.32.4->aiobotocore<3.0.0,>=2.5.4->s3fs==2023.12.1) (1.26.9)\n",
      "Requirement already satisfied: jmespath<2.0.0,>=0.7.1 in /databricks/python3/lib/python3.9/site-packages (from botocore<1.33.2,>=1.32.4->aiobotocore<3.0.0,>=2.5.4->s3fs==2023.12.1) (0.10.0)\n",
      "Requirement already satisfied: tqdm in /local_disk0/.ephemeral_nfs/envs/pythonEnv-3d4fd213-1e0c-4153-aa87-6dfc8d818f11/lib/python3.9/site-packages (from nltk>=3.1->textblob==0.17.1) (4.66.1)\n",
      "Requirement already satisfied: click in /databricks/python3/lib/python3.9/site-packages (from nltk>=3.1->textblob==0.17.1) (8.0.4)\n",
      "Requirement already satisfied: regex>=2021.8.3 in /local_disk0/.ephemeral_nfs/envs/pythonEnv-3d4fd213-1e0c-4153-aa87-6dfc8d818f11/lib/python3.9/site-packages (from nltk>=3.1->textblob==0.17.1) (2023.10.3)\n",
      "Requirement already satisfied: joblib in /databricks/python3/lib/python3.9/site-packages (from nltk>=3.1->textblob==0.17.1) (1.1.1)\n",
      "Requirement already satisfied: six>=1.5 in /databricks/python3/lib/python3.9/site-packages (from python-dateutil<3.0.0,>=2.1->botocore<1.33.2,>=1.32.4->aiobotocore<3.0.0,>=2.5.4->s3fs==2023.12.1) (1.16.0)\n",
      "Requirement already satisfied: idna>=2.0 in /databricks/python3/lib/python3.9/site-packages (from yarl<2.0,>=1.0->aiohttp!=4.0.0a0,!=4.0.0a1->s3fs==2023.12.1) (3.3)\n",
      "Python interpreter will be restarted.\n"
     ]
    }
   ],
   "source": [
    "%pip install \"textblob==0.17.1\" \"s3fs==2023.12.1\""
   ]
  },
  {
   "cell_type": "code",
   "execution_count": null,
   "metadata": {
    "application/vnd.databricks.v1+cell": {
     "cellMetadata": {
      "byteLimit": 2048000,
      "rowLimit": 10000
     },
     "inputWidgets": {},
     "nuid": "91113f76-978d-4083-8450-df1395352316",
     "showTitle": false,
     "title": ""
    }
   },
   "outputs": [
    {
     "data": {
      "application/vnd.databricks.v1+bamboolib_hint": "{\"pd.DataFrames\": [], \"version\": \"0.0.1\"}",
      "text/plain": []
     },
     "metadata": {},
     "output_type": "display_data"
    }
   ],
   "source": [
    "from pyspark.ml.feature import RegexTokenizer, HashingTF, IDF\n",
    "from pyspark.sql.functions import concat, col\n",
    "from textblob import TextBlob\n",
    "from pyspark.sql.types import DoubleType\n",
    "from pyspark.sql.functions import col, isnan, when, count, udf\n",
    "sc.setLogLevel(\"ERROR\")\n",
    "from pyspark.sql.functions import *\n",
    "from pyspark.ml.feature import StringIndexer, OneHotEncoder, VectorAssembler\n",
    "from pyspark.ml import Pipeline\n",
    "from pyspark.ml.classification import LogisticRegression\n",
    "from pyspark.ml.regression import GeneralizedLinearRegression\n",
    "from pyspark.ml.evaluation import BinaryClassificationEvaluator\n",
    "from pyspark.ml.tuning import CrossValidator, ParamGridBuilder\n",
    "import numpy as np\n",
    "import io\n",
    "import s3fs\n",
    "import seaborn as sns\n",
    "import matplotlib.pyplot as plt\n",
    "from IPython.display import display, Image\n",
    "import pandas as pd\n",
    "from pyspark.ml.stat import Correlation\n",
    "from pyspark.ml.feature import Binarizer"
   ]
  },
  {
   "cell_type": "code",
   "execution_count": null,
   "metadata": {
    "application/vnd.databricks.v1+cell": {
     "cellMetadata": {
      "byteLimit": 2048000,
      "rowLimit": 10000
     },
     "inputWidgets": {},
     "nuid": "131f46c1-64f1-4519-84f7-cb1be297f1f6",
     "showTitle": false,
     "title": ""
    }
   },
   "outputs": [],
   "source": [
    "file_path_list = ['s3a://4130semesterprojectas/raw/part-00000-tid-693570239219521015-7c35c41b-2dfb-4b25-befe-9c96d3cfe97b-295-1-c000.snappy.parquet', 's3a://4130semesterprojectas/raw/part-00000-tid-8723679316915364511-daad138e-0a4e-47c1-8031-aa906356dee3-267-1-c000.snappy.parquet', 's3a://4130semesterprojectas/raw/part-00001-tid-693570239219521015-7c35c41b-2dfb-4b25-befe-9c96d3cfe97b-296-1-c000.snappy.parquet', 's3a://4130semesterprojectas/raw/part-00001-tid-8723679316915364511-daad138e-0a4e-47c1-8031-aa906356dee3-268-1-c000.snappy.parquet', 's3a://4130semesterprojectas/raw/part-00002-tid-693570239219521015-7c35c41b-2dfb-4b25-befe-9c96d3cfe97b-297-1-c000.snappy.parquet', 's3a://4130semesterprojectas/raw/part-00002-tid-8723679316915364511-daad138e-0a4e-47c1-8031-aa906356dee3-269-1-c000.snappy.parquet']\n"
   ]
  },
  {
   "cell_type": "code",
   "execution_count": null,
   "metadata": {
    "application/vnd.databricks.v1+cell": {
     "cellMetadata": {
      "byteLimit": 2048000,
      "rowLimit": 10000
     },
     "inputWidgets": {},
     "nuid": "c06cd428-78ae-4070-80ff-f9f99bf4385f",
     "showTitle": false,
     "title": ""
    }
   },
   "outputs": [],
   "source": [
    "rdf = spark.read.parquet(file_path_list[0])"
   ]
  },
  {
   "cell_type": "code",
   "execution_count": null,
   "metadata": {
    "application/vnd.databricks.v1+cell": {
     "cellMetadata": {
      "byteLimit": 2048000,
      "rowLimit": 10000
     },
     "inputWidgets": {},
     "nuid": "5821d761-6afc-4586-aab5-8994e683beb3",
     "showTitle": false,
     "title": ""
    }
   },
   "outputs": [],
   "source": [
    "rdf = rdf.sample(False, 0.01)"
   ]
  },
  {
   "cell_type": "code",
   "execution_count": null,
   "metadata": {
    "application/vnd.databricks.v1+cell": {
     "cellMetadata": {
      "byteLimit": 2048000,
      "rowLimit": 10000
     },
     "inputWidgets": {},
     "nuid": "be65ccb7-254f-40e5-a505-983a8ec30838",
     "showTitle": false,
     "title": ""
    }
   },
   "outputs": [],
   "source": [
    "columns_to_drop = [\"marketplace\", \"product_parent\", \"product_title\"]\n",
    "rdf = rdf.drop(*columns_to_drop)\n",
    "rdf = rdf[(rdf['verified_purchase'] == 'Y') & (rdf['helpful_votes'] > '1')]\n",
    "rdf = rdf.withColumn(\"full_review\", concat(col(\"review_headline\"), col(\"review_body\")))\n",
    "rdf = rdf.withColumn(\"star_rating\", col(\"star_rating\").cast(\"double\"))"
   ]
  },
  {
   "cell_type": "code",
   "execution_count": null,
   "metadata": {
    "application/vnd.databricks.v1+cell": {
     "cellMetadata": {
      "byteLimit": 2048000,
      "rowLimit": 10000
     },
     "inputWidgets": {},
     "nuid": "0fe93be1-9338-481f-a0dc-dd715952fb18",
     "showTitle": false,
     "title": ""
    }
   },
   "outputs": [
    {
     "name": "stdout",
     "output_type": "stream",
     "text": [
      "+-------+----------------------+\n",
      "|summary|full_review_word_count|\n",
      "+-------+----------------------+\n",
      "|  count|                   532|\n",
      "|    min|                     2|\n",
      "|    max|                   359|\n",
      "|   mean|     62.36278195488722|\n",
      "+-------+----------------------+\n",
      "\n"
     ]
    }
   ],
   "source": [
    "# Check the counts of words in the full_review\n",
    "rdf = rdf.withColumn('full_review_word_count', size(split(col('full_review'), ' ')))\n",
    "rdf.select('full_review_word_count').summary(\"count\", \"min\", \"max\", \"mean\").show()\n"
   ]
  },
  {
   "cell_type": "code",
   "execution_count": null,
   "metadata": {
    "application/vnd.databricks.v1+cell": {
     "cellMetadata": {
      "byteLimit": 2048000,
      "rowLimit": 10000
     },
     "inputWidgets": {},
     "nuid": "e023de70-cbf0-46b8-bf29-440392662251",
     "showTitle": false,
     "title": ""
    }
   },
   "outputs": [],
   "source": [
    "# Remove records where word count in full_review is too low\n",
    "rdf = rdf.where(col('full_review_word_count') > 0)"
   ]
  },
  {
   "cell_type": "code",
   "execution_count": null,
   "metadata": {
    "application/vnd.databricks.v1+cell": {
     "cellMetadata": {
      "byteLimit": 2048000,
      "rowLimit": 10000
     },
     "inputWidgets": {},
     "nuid": "38f7a881-d737-4bd0-b801-f5ffad37312a",
     "showTitle": false,
     "title": ""
    }
   },
   "outputs": [],
   "source": [
    "regexTokenizer = RegexTokenizer(inputCol=\"full_review\", outputCol=\"words\", pattern=\"\\\\w+\", gaps=False)\n",
    "\n",
    "# Apply the hashing trick and transform to TF-IDF\n",
    "hasher = HashingTF(numFeatures=4096, inputCol=\"words\", outputCol=\"word_features\")\n",
    "idf = IDF(inputCol='word_features', outputCol=\"idffeatures\", minDocFreq=1)\n",
    "binarizer = Binarizer(threshold=3.0, inputCol=\"star_rating\", outputCol=\"binary_rating\")\n"
   ]
  },
  {
   "cell_type": "code",
   "execution_count": null,
   "metadata": {
    "application/vnd.databricks.v1+cell": {
     "cellMetadata": {
      "byteLimit": 2048000,
      "rowLimit": 10000
     },
     "inputWidgets": {},
     "nuid": "aedb4fb5-f6c8-4b02-bb7a-749c83f70499",
     "showTitle": false,
     "title": ""
    }
   },
   "outputs": [],
   "source": [
    "feature_col = \"idffeatures\"\n",
    "label_col = \"binary_rating\"\n",
    "\n",
    "lr = LogisticRegression(labelCol= label_col, featuresCol= feature_col)"
   ]
  },
  {
   "cell_type": "code",
   "execution_count": null,
   "metadata": {
    "application/vnd.databricks.v1+cell": {
     "cellMetadata": {
      "byteLimit": 2048000,
      "rowLimit": 10000
     },
     "inputWidgets": {},
     "nuid": "3c5b2fb0-4d3f-4c57-b413-b61f594af1f6",
     "showTitle": false,
     "title": ""
    }
   },
   "outputs": [],
   "source": [
    "pipeline = Pipeline(stages=[regexTokenizer, hasher, idf, binarizer])"
   ]
  },
  {
   "cell_type": "code",
   "execution_count": null,
   "metadata": {
    "application/vnd.databricks.v1+cell": {
     "cellMetadata": {
      "byteLimit": 2048000,
      "rowLimit": 10000
     },
     "inputWidgets": {},
     "nuid": "22758992-cb0c-49cf-b97e-ca57188c6b3c",
     "showTitle": false,
     "title": ""
    }
   },
   "outputs": [],
   "source": [
    "rdf = pipeline.fit(rdf).transform(rdf)"
   ]
  },
  {
   "cell_type": "code",
   "execution_count": null,
   "metadata": {
    "application/vnd.databricks.v1+cell": {
     "cellMetadata": {
      "byteLimit": 2048000,
      "rowLimit": 10000
     },
     "inputWidgets": {},
     "nuid": "5128d445-7be4-4fd1-88a2-108209313189",
     "showTitle": false,
     "title": ""
    }
   },
   "outputs": [],
   "source": [
    "def sentiment_analysis(some_text):\n",
    "    sentiment = TextBlob(some_text).sentiment.polarity\n",
    "    return sentiment\n",
    "    \n",
    "sentiment_analysis_udf = udf(sentiment_analysis, DoubleType())\n",
    "\n",
    "rdf = rdf.withColumn(\"sentiment_score\",\n",
    " sentiment_analysis_udf( rdf['full_review'] ))\n"
   ]
  },
  {
   "cell_type": "code",
   "execution_count": null,
   "metadata": {
    "application/vnd.databricks.v1+cell": {
     "cellMetadata": {
      "byteLimit": 2048000,
      "rowLimit": 10000
     },
     "inputWidgets": {},
     "nuid": "e41d9e93-bffc-47eb-98b1-7a43c2f0872e",
     "showTitle": false,
     "title": ""
    }
   },
   "outputs": [],
   "source": [
    "train_data, test_data = rdf.randomSplit([0.8, 0.2], seed=42)"
   ]
  },
  {
   "cell_type": "code",
   "execution_count": null,
   "metadata": {
    "application/vnd.databricks.v1+cell": {
     "cellMetadata": {
      "byteLimit": 2048000,
      "rowLimit": 10000
     },
     "inputWidgets": {},
     "nuid": "37bc5321-b6c4-4102-bace-72fce2c5409c",
     "showTitle": false,
     "title": ""
    }
   },
   "outputs": [],
   "source": [
    "model = lr.fit(train_data)"
   ]
  },
  {
   "cell_type": "code",
   "execution_count": null,
   "metadata": {
    "application/vnd.databricks.v1+cell": {
     "cellMetadata": {
      "byteLimit": 2048000,
      "rowLimit": 10000
     },
     "inputWidgets": {},
     "nuid": "855c5860-dff4-426c-bbe1-8ae49ea0088b",
     "showTitle": false,
     "title": ""
    }
   },
   "outputs": [],
   "source": [
    "test_results = model.transform(test_data)\n"
   ]
  },
  {
   "cell_type": "code",
   "execution_count": null,
   "metadata": {
    "application/vnd.databricks.v1+cell": {
     "cellMetadata": {
      "byteLimit": 2048000,
      "rowLimit": 10000
     },
     "inputWidgets": {},
     "nuid": "6af33473-5432-4cb0-9c77-0cb251006f59",
     "showTitle": false,
     "title": ""
    }
   },
   "outputs": [],
   "source": [
    "s3_bucket = \"s3://4130semesterprojectas/trusted/\"\n",
    "test_results.write.mode(\"overwrite\").parquet(s3_bucket)\n"
   ]
  },
  {
   "cell_type": "code",
   "execution_count": null,
   "metadata": {
    "application/vnd.databricks.v1+cell": {
     "cellMetadata": {
      "byteLimit": 2048000,
      "rowLimit": 10000
     },
     "inputWidgets": {},
     "nuid": "e37997cc-064c-4bf1-887b-66368fbfece0",
     "showTitle": false,
     "title": ""
    }
   },
   "outputs": [
    {
     "name": "stdout",
     "output_type": "stream",
     "text": [
      "(0.7317073170731707, 0.8545454545454545, 0.7704918032786885, 0.810344827586207)\n"
     ]
    }
   ],
   "source": [
    "cm = test_results.groupby('binary_rating').pivot('prediction').count().fillna(0).collect()\n",
    "def calculate_recall_precision(cm):\n",
    " tn = cm[0][1] # True Negative\n",
    " fp = cm[0][2] # False Positive\n",
    " fn = cm[1][1] # False Negative\n",
    " tp = cm[1][2] # True Positive\n",
    " precision = tp / ( tp + fp )\n",
    " recall = tp / ( tp + fn )\n",
    " accuracy = ( tp + tn ) / ( tp + tn + fp + fn )\n",
    " f1_score = 2 * ( ( precision * recall ) / ( precision + recall ) )\n",
    " return accuracy, precision, recall, f1_score\n",
    "print( calculate_recall_precision(cm) )"
   ]
  },
  {
   "cell_type": "code",
   "execution_count": null,
   "metadata": {
    "application/vnd.databricks.v1+cell": {
     "cellMetadata": {
      "byteLimit": 2048000,
      "rowLimit": 10000
     },
     "inputWidgets": {},
     "nuid": "30a3b99a-af16-4df4-9cb5-9593f662bea6",
     "showTitle": false,
     "title": ""
    }
   },
   "outputs": [],
   "source": []
  },
  {
   "cell_type": "code",
   "execution_count": null,
   "metadata": {
    "application/vnd.databricks.v1+cell": {
     "cellMetadata": {
      "byteLimit": 2048000,
      "rowLimit": 10000
     },
     "inputWidgets": {},
     "nuid": "4bd2da0e-75a2-4c27-8b27-f3ab65eaa8f1",
     "showTitle": false,
     "title": ""
    }
   },
   "outputs": [
    {
     "name": "stdout",
     "output_type": "stream",
     "text": [
      "Out[18]: Text(0.5, 1.0, 'Helpful Votes Freq')"
     ]
    },
    {
     "data": {
      "image/png": "[encoded data removed]"
     },
     "metadata": {
      "application/vnd.databricks.v1+output": {
       "addedWidgets": {},
       "arguments": {},
       "data": "data:image/png;base64,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\n",
       "datasetInfos": [],
       "metadata": {},
       "removedWidgets": [],
       "type": "image"
      }
     },
     "output_type": "display_data"
    }
   ],
   "source": [
    "helpful_votes_df = test_results.groupby('helpful_votes').count().sort('helpful_votes').toPandas()\n",
    "\n",
    "# Bar Plot of food and count\n",
    "values = helpful_votes_df['helpful_votes']\n",
    "plt.hist(values, bins=1000, color='green', edgecolor='black')\n",
    "plt.xlim(0, 200)\n",
    "# fig.tight_layout()\n",
    "plt.title(\"Helpful Votes Freq\")\n",
    "#plt.savefig(\"frequency_food_ordered.png\")"
   ]
  },
  {
   "cell_type": "code",
   "execution_count": null,
   "metadata": {
    "application/vnd.databricks.v1+cell": {
     "cellMetadata": {
      "byteLimit": 2048000,
      "rowLimit": 10000
     },
     "inputWidgets": {},
     "nuid": "59fcac04-5d1f-43b7-8aaa-c99af20df818",
     "showTitle": false,
     "title": ""
    }
   },
   "outputs": [],
   "source": []
  },
  {
   "cell_type": "code",
   "execution_count": null,
   "metadata": {
    "application/vnd.databricks.v1+cell": {
     "cellMetadata": {
      "byteLimit": 2048000,
      "rowLimit": 10000
     },
     "inputWidgets": {},
     "nuid": "e64345b8-f2f7-403f-b9fb-ab6271b51fd4",
     "showTitle": false,
     "title": ""
    }
   },
   "outputs": [
    {
     "name": "stdout",
     "output_type": "stream",
     "text": [
      "<Figure size 432x288 with 0 Axes>"
     ]
    }
   ],
   "source": [
    "img_data = io.BytesIO()\n",
    "plt.savefig(img_data, format='png', bbox_inches='tight')\n",
    "img_data.seek(0)\n",
    "s3 = s3fs.S3FileSystem(anon=False)\n",
    "with s3.open('s3://4130semesterprojectas/model/freq.png', 'wb') as f:\n",
    " f.write(img_data.getbuffer())"
   ]
  },
  {
   "cell_type": "code",
   "execution_count": null,
   "metadata": {
    "application/vnd.databricks.v1+cell": {
     "cellMetadata": {
      "byteLimit": 2048000,
      "rowLimit": 10000
     },
     "inputWidgets": {},
     "nuid": "7932b55a-4aaf-419a-a810-0259a480c6e1",
     "showTitle": false,
     "title": ""
    }
   },
   "outputs": [],
   "source": [
    "#display(Image(data=img_data.getvalue()))"
   ]
  },
  {
   "cell_type": "code",
   "execution_count": null,
   "metadata": {
    "application/vnd.databricks.v1+cell": {
     "cellMetadata": {
      "byteLimit": 2048000,
      "rowLimit": 10000
     },
     "inputWidgets": {},
     "nuid": "e66f5c4d-dbad-407b-9b52-384d5a1a2687",
     "showTitle": false,
     "title": ""
    }
   },
   "outputs": [
    {
     "data": {
      "image/png": "[encoded data removed]"
     },
     "metadata": {
      "application/vnd.databricks.v1+output": {
       "addedWidgets": {},
       "arguments": {},
       "data": "data:image/png;base64,iVBORw0KGgoAAAANSUhEUgAAAWAAAAFgCAYAAACFYaNMAAAAOXRFWHRTb2Z0d2FyZQBNYXRwbG90bGliIHZlcnNpb24zLjUuMSwgaHR0cHM6Ly9tYXRwbG90bGliLm9yZy/YYfK9AAAACXBIWXMAAAsTAAALEwEAmpwYAAA9oklEQVR4nO3deXxU9bk/8M+ZfSaZrJAJhQiEgLGAWlsRsEUIBUVEKEJdbvFlLwi3vyq4FC9clVpUqq1Wsd7bQmmxLqUVihTFrSWFtBDBBYxSqbJEwpIEkkCWWc/y++PMDBmyTTJn5mQyn/frReOcOTnn2wN5cuZ7nu/zCIqiKCAiooQz6D0AIqJUxQBMRKQTBmAiIp0wABMR6YQBmIhIJ30yAM+fP1/vIRARdalPBuCGhga9h0BE1KU+GYCJiJIBAzARkU4YgImIdMIATESkEwZgIiKdMAATEemEAZiISCcMwEREOmEAJiLSiUnvASxfvhw7duxAbm4u3njjjTbvK4qCxx9/HDt37oTNZsMTTzyBkSNH6jBSIkpVz/3tc6z751G0+CWkWYxY8M2hWPztETEfV/c74NmzZ2PdunUdvl9WVobKykq8++67ePTRR/HII48kbnBElPKe+9vnWF16CJ6ABJMB8AQkrC49hOf+9nnMx9Y9AF955ZXIzMzs8P3t27dj1qxZEAQBl19+ORobG1FbW5vAERJRKlv3z6MwCIDJYIBBMAS/qttjpXsA7kpNTQ3y8/PDr/Pz81FTU6PjiIgolbT4JRiEyG0GQd0eq14fgImI9JRmMUK+oHWxrKjbY9XrA7DL5UJ1dXX4dXV1NVwul44jIqJUsuCbQyErgCjLkBU5+FXdHqteH4BLSkqwZcsWKIqC/fv3w+l0Ii8vT+9hEVGKWPztEVhSUgS72QhRBuxmI5aUFGmSBaF7Gtp9992HvXv3oqGhARMmTMDdd98NURQBALfeeiuuueYa7Ny5E1OmTIHdbseqVat0HjERpZrF3x6hScC9kKAoitL1bsll9uzZ2Lx5s97DICLqVK+fgiAi6qsYgImIdMIATESkEwZgIiKdMAATEemEAZiISCcMwEREOmEAJiLSCQMwEZFOGICJiHTCAExEpBMGYCIinTAAExHphAGYiEgnDMBERDphACYi0gkDMBGRThiAiYh0wgBMRKQTBmAiIp0wABMR6YQBmIhIJwzAREQ6YQAmItIJAzARkU4YgImIdMIATESkE5PeAyAi6u12HKzFmrIjqGpwoyDbgUUTCjGxOC/m4/IOmIioEzsO1mLF1gOobfIiy25GbZMXK7YewI6DtTEfmwGYiKgTa8qOwGwU4LCYIAjqV7NRwJqyIzEfmwGYiKgTVQ1u2M3GiG12sxHHG9wxH5sBmIioEwXZDngCUsQ2T0DCoGxHzMdmACYi6sSiCYUISArcfhGKon4NSAoWTSiM+di6B+CysjJce+21mDJlCtauXdvm/ZMnT2LevHmYNWsWZsyYgZ07d+owSiJKVROL87DyxpHIc9pwzhNAntOGlTeO1CQLQtc0NEmSsHLlSqxfvx4ulwtz5sxBSUkJioqKwvv86le/wrRp03Dbbbfh0KFDWLhwIUpLS3UcNRGlKkXj4+l6B1xRUYHBgwejoKAAFosF06dPx/bt2yP2EQQBzc3NAICmpibk5cX+W4eIKFrxTEPT9Q64pqYG+fn54dculwsVFRUR+9x1112YP38+Xn75ZXg8Hqxfvz7RwySiFNY6DQ0AHBYT3H4Ra8qOxDwNofsccFe2bduG73znOygrK8PatWvxwAMPQJZlvYdFRCmiz6ahuVwuVFdXh1/X1NTA5XJF7LNp0yZMmzYNAPC1r30NPp8PDQ0NCR0nEaWuPpuGNnr0aFRWVqKqqgp+vx/btm1DSUlJxD4DBgxAeXk5AODw4cPw+XzIycnRY7hElILimYam6xywyWTCihUrsGDBAkiShJtuugnDhw/H6tWrMWrUKEyePBnLli3DQw89hBdeeAGCIOCJJ56AIAh6DpuIUsjE4jyshDoXfLzBjUEaFuMRFEXROrNCd7Nnz8bmzZv1HgYRUad6/UM4IqK+igGYiEgnDMBERDphACYi0gkDMBGRThiAiYh0wgBMRKQTBmAiIp0wABMR6YQBmIhIJwzAREQ6YQAmItIJAzARkU50LUdJRJQMdhysxZqyI6hqcKNAw3KUvAMmIupEPJtyMgATEXWidVNOQVC/mo0C1pQdifnYDMBERJ2IZ1NOzgETEXWiINuBo2ea0eQV4ZdkWIwGOG0mDO2XHvOxeQdMRNSJcYU5ON3sh1+SYRAAvyTjdLMf4wpjbw7MAExE1InyI/XIc1pgMRogK4DFaECe04LyI/UxH5tTEEREnahqcCM3zYp+6bbwNkVRNJkD5h0wEVEnCrId8ASkiG2egIRB2Y6Yj80ATETUiUUTChGQFLj9IhRF/RqQFCyaUBjzsRmAiYg6MbE4DytvHIk8pw3nPAHkOW1YeeNITVbCcQ6YiKgLE4vzNAm4F+IdMBGRThiAiYh0wgBMRKQTBmAiIp0wABMR6YQBmIhIJwzAREQ6YQAmItIJAzARkU50XwlXVlaGxx9/HLIsY+7cuVi4cGGbfd588008//zzEAQBxcXFePrpp3UYKVHqiVczymQTr+ugawCWJAkrV67E+vXr4XK5MGfOHJSUlKCoqCi8T2VlJdauXYsNGzYgMzMTdXV1Oo6YKHWEmlGajUJEM8qVQEoF4XheB12nICoqKjB48GAUFBTAYrFg+vTp2L59e8Q+r776Kv7jP/4DmZmZAIDc3Fw9hkqUcuLZjDKZ9NmmnDU1NcjPzw+/drlcqKmpidinsrISR48exS233ILvfve7KCsrS/QwiVJSPJtRJpOUbsopSRK+/PJLvPTSS6iursb3vvc9vP7668jIyNB7aER9WkG2A7VNXjgs58OEVoXIk0lBtgOVdc1o9JxvyplhN2FIbpI35XS5XKiurg6/rqmpgcvlarNPSUkJzGYzCgoKMGTIEFRWViZ4pESpJ56FyJPJuMIc1DZFNuWsbeoDTTlHjx6NyspKVFVVwe/3Y9u2bSgpKYnY59vf/jb27t0LAKivr0dlZSUKCgr0GC5RSolnIfJkUn6kHv3TI5ty9k/vA005TSYTVqxYgQULFkCSJNx0000YPnw4Vq9ejVGjRmHy5Mn41re+hV27duH666+H0WjEAw88gOzsbD2HTZQy4lWIPJlUNbhhNRnQ1Gqb1WTQZA5YUBRFifkovczs2bOxefNmvYdBRH3Adc/sxKHTLTAKAgQBUBRAUhQU9U/D2/deE9OxuRKOiKgTgiAE/6PVn9bbY8AATETUiSafiGyHCQFJhjcgIyDJyHaY0OwTYz42AzARUSfSLUY0uEWYDQbYTAaYDQY0uEWkWYxdf3MXGICJiDrBKQgiIp1wCoKISCfxnILo9UuRiYj0JAgCFEWBX1agQJ2BMAicgiAiirvTzT7IChBaMKEAkBV1e6x4B0xE1Am3Xwrf+UIAEAzGbr8U87EZgImIOuEX1UCrhP8ncnssOAVBRKSTqAOwx+PB//7v/+Khhx4CoBZK//vf/x63gRER9QYGtP+wraPt3Tt2lJYvXw6LxYL9+/cDUOv0PvvsszEPgKi32XGwFreufQ/ffLIUt659DzsO1uo9JNKR0kGc7Wh7d0QdgI8dO4Y777wTJpM6bWy329EHC6lRigs1YKxt8kY0YGQQTmEdhTkNwl/UAdhiscDr9YZz344dOwaLxRL7CIh6ETaipAuZjWqYvGAlcnh7LKLOgrj77ruxYMECnDp1Cvfffz/27duHn/70pzEPgKg3qWpwI8tujtiWio0o6Ty7xQCfJEGWEU5HMxoAhyVBAViWZZw7dw6//OUv8fHHH0NRFDz44IPIyYm9JxJRb8JGlHShEa4MHD3TjCbv+aacTpsJQ/slqCmnwWDAunXrkJ2djYkTJ2LSpEkMvtQnsRElXWjRhEJYTEbkZ9pwscuJ/EwbLCajJv8mor6HHj9+PH7729/i1KlTOHv2bPgPUV/CRpR0oXj+m4i6J9yF3YoBtRjF9u3bYx6E1tgTjoiSQdQP4UpLS+M5DiKilBN1AA4EAtiwYQM++OADAMCYMWNw8803w2w2d/GdRETJbcfBWqwpO4KqBjcKsh1YNKEwsVMQDz74IERRxKxZswAAW7duhcFgwOOPPx7zILTGKQgi0sqOg7VYuuljNHlFiLIMk0HNgvj5nMtiDsJR3wF/8skn2Lp1a/j1uHHjcOONN8Z0ciKi3u7Jtw+irtkPRQAUBZAUGf5mP558+2DMATjqLAij0Yhjx46FX1dVVcFojL0lBxFRb/ZFbRNkqMEXwa9ycHusor4DfuCBB3D77bejoKAAiqLg5MmTWLVqVcwD6A3iNb9DRMlP6mCStqPt3RF1AB43bhzeffddHDmirokvLCzsE7UgQsVXzEYhovjKSoBBmIhgANBe6XUtiqlHfYxXXnkFXq8XxcXFKC4uhsfjwSuvvKLBEPTF4itE1Bmr+fxUq8NihEFou72nog7Ar776KjIyMsKvMzMzsXHjxpgHoLeqBjfsF1xIFl8hopBMmwl5TgsuynEgz2mF3WxUi/GYY78HjvoIsixH1P+VJAmBQCDmAeitINsBTyDyAwaLrxCRoihw+0RcVpCNdIsR9S0++EUJDosR/dOtGO7K6PogXYg6AH/zm9/EPffcg/LycpSXl+O+++7Dt771rZgHoDcWXyGi1kRJxlm3HycaPKhp9GLiiP7wiAqyHRZclJOGvAztivFE/RBu6dKl+NOf/oQNGzYAUIvzzJ07N+YB6G1icR5WQp0LPt7gxiBmQRClJK9fQpNPRIsvALlVhsOYwhxcV+3Cqx8eR0CSoQD4jzEXJXYlXGtnz55FdXU1iouLYx5APHAlHBFFwy/K8PhFNPsk+EWp3S5De4/U49E3DsAdkNHfaYXbL8IA4Llbr0jcQox58+ahubkZZ8+exezZs/Hwww9rkgdcVlaGa6+9FlOmTMHatWs73O+dd97BxRdfjE8++STmcxJR6hIlGU2eAE6e9eDEWTfqWvzwdRB8AeCZv/0bLQE5/L6sAI0+CQ9tiT0WRR2Am5qakJ6ejr/+9a+YNWsWNm7ciPLy8phOLkkSVq5ciXXr1mHbtm144403cOjQoTb7NTc348UXX8Rll10W0/mIKDUpioIWn4jTjT4cb3DjdLMP3oCEaD7/1zT5I14H22LixDlvzOOKOgBLkoTa2lq89dZbmDhxYswnBoCKigoMHjwYBQUFsFgsmD59erv1hVevXo0777wTVqtVk/MSUWrwBiTUt6hBt7bRi6YL5ndjoUVT+KgD8P/7f/8P8+fPx0UXXYRLL70UVVVVGDJkSEwnr6mpQX5+fvi1y+VCTU1NxD4HDhxAdXW1ZkGfiPo2SVbCUwynznlw1h1AQFJ63EXeZrogTAYP5NBgIUbUWRDTpk3DtGnTwq8LCgrwy1/+Mvx6zZo1WLRoUcwDak2WZTzxxBPsvkxEnVIUBd6AhBafhBa/CEmr21wAt15ZgBfKvwwHcAWAQQD+65oE9oTryttvv93t73G5XKiurg6/rqmpgcvlCr9uaWnB559/jttvvx0lJSXYv38/fvCDH/BBHBFBURR4/CLqmtUphupzXjR6A5oGXwCYN34I7hg3GGnBZchOmwn3TB6Oxd8eEfOxo74D7koPstkwevRoVFZWoqqqCi6XC9u2bcPTTz8dft/pdGLPnj3h1/PmzcMDDzyA0aNHazJmIkouatCV4PZLcAfvdLUNt+0b4XKiINsBryhicE4aLh2UpclxNQvAQujRYHdObjJhxYoVWLBgASRJwk033YThw4dj9erVGDVqFCZPnqzV8IgoiQUkGS0+EU3eAMQY5nO7Q5IVfHriHP780QnsPnwm/PDuTLMfB0414ikNOmL0aCFGe2bNmoUtW7ZocaiYcSEGUfKTZQXugAi3T73b1XhmoV0ev4T3K+ux63Ad9hypQ6NXjHjfZBDgMBvhDkgo6p+Gt++9JqbzRX0H/OGHH+LrX/96h9uuu+66mAZCRASoq9OafQE0e0WICYi6Z5p9KD9ch92H6/DRsQYE2qm0LkB9+JbtMAeLdyk4Whd7xcSoA/Bjjz2G1157rcNt//Vf/xXzYIgoNYXmdlt8Epr9AU1ybDs719EzLdh1uA67D9Xh3zWRrYVMBgGXF2Rh/LBcjBuWi3nr9kAMjkcQBCgKIMqAoMFESJcBeN++fdi3bx/q6+uxfv368Pbm5mZIUnt14omIouMNqNMLLT4xrnO7oiTjkxPnsOtwHcoP1+HUBavY0q0mXDU0B+OH5eLKoTlIt54PjSaTAWJAbnNM84X5wT3QZQAOBAJwu92QJAktLS3nB5yejueeey7mARBRavEGJHj8Itx+CX5RjlvQbfaJeP9oPXYfrsOeo/Vo9kXO57oyrLh6WD+ML8rFpQMzYTK2H1BtJgN8rWpBhPKAtSjI3mUAHjNmDMaMGYPvfOc7GDhwYMwnJKLUI8lqcfNGrwi/FF0Nhp6oafSi/HAddh2uw8dVZ9vMIV/scmJ8US6uHpaLof3Sosreykmz4pznfPAWghPC/Z22mMcb9Ryw3+/Hww8/jBMnTkAUzw/mxRdfjHkQRNT3tM7Z1Xp1WutzHKptVudzD9fhUG1zxPtmo4CvXZSNq4flYmxhLvo7e1BPRlHCD+HU12oQ1iKBLOoAvGTJEtxyyy2YO3cuDAbNFtARUR8SkGR4AxK8AbXObjwWSgQkGfurzmJ3cD63tskX8X6GzYSrCtW73G8MyYbDEttyhwZPIPL/g6AW4jnT4u/oW6IW9chMJhNuu+22mE9IRMljx8FarCk7gqoGNwo66BYjyUrwQZoET0CMy/RCkzeAvcH53L1H69Hij0wA+EqWLTyfO+ormTAaur8wrCN+UYbRABgNBlhNBkiyEX5Rhl9s+2Cuu6IOwJMmTcIrr7yCKVOmwGKxhLdnZWXFPAgi6n12HKzF0k0fo8krQpRlnGnyYemmj/H03Mtw9fD+4UUSnjgtkjh1zoPdwamFiuPnIqYwBADFA5zhoDs4x9Gj1bjRMBsF+ER1YQgURf0KwGKM/XxRB+BQvu9vf/vb8DZBENqt30tEye/Jtw+iwR2AzWyA026B1WiAxWTAr3YexkW5Ds2Drqwo+KKmGbsOn8HuQ3U4cqYl4n2LyYArLsrC1cP6YdywXOSkWTo4kraG5KbjeEMLWvwSJEWBySggN82Cof3SYz521AG4tLQ05pMRUfKob/FjUJYNJqMBnoD6MO10kxdVDR7Ngq9flLGvqiF8p1vXHDmvmmU3Y2xhLq4uysUVg7Nh16AGb3fdcmUBVpd+gX4WEwZm2dHkE9HkFRPbFdnj8WD9+vU4deoUHn30UVRWVuLo0aOYNGlSzIMgot5BlGR4RAkenwRZUVB9zgdfsBOwEPxjjDEGnvMEsOeIGnD3VtbDe8Eih4JsO64u6odxhbn46lcyNJ3P7YkxhTlYguH44/tVaPEF0D/dhqVTL9akK3LUAXj58uUYOXIk9u3bB0Ct5btkyRIGYKIk11HRGwMUeKXzwVEJ/ulv735WwYmzHuw+dAa7D9fhkxPnIu6gBQCjBmZg3LB+GD8sFxflOGL6/6M1AcC4olxMLO4Ph8WIDLt2Ux9RX8ljx47h2WefxbZt2wAAdrtdkzw4Ikq8cAcJvwS3r/2iN2k2CwzNAbS+PzUEt3dFVhQcPNWkzucersOXFxSusZkM+PrgbIwv6odxhTnIciRmPrcrAtQcX5PBAKvZCJvJALNJzX6Ix0O+qAOwxWKB1+sND+LYsWMR2RDJLJpUG6JkpigKfAEZnoAInyjDJ8qQu8jRbfGLyM+0osEdQECSYTYakO0ww+0X293fF5Dw0bGz2HX4DMoP16HBHYh4P9thxrhhubh6WD9ccVEWrDrM57bHIABWsxF2sxE2kxFmk6HNtEe8YkTUAfjuu+/GggULcOrUKdx///3Yt29fn+jVtuNgLVZsPQCzUUCW3YzaJi9WbD2AlQCDMCU1SVbgCYjw+Hu2KGJAhh0nzkZmIgQkGQOz0sKvz7r9eO9IPXYdPoMPKxvgvSA3dnCuA1cPy8XVRf1wcb4ThjilikVLEACjIMBiUjM6bCYjrGZjp/PMOw7W4kebPkazT72GZ5p9+NGmjzUpyB51AL766qvx1a9+FR9//DEURcGDDz6InJycmE7eG6wpOwKzUQivlnFYTHD7RawpO8IATEknIMnw+iW4AxK8ASmm5b9fK8hExYmzMAhq4ApIMupaZHyryIE/vl+F8sNncOBkY8R8rkEARg3MxNXDcjF+WD8MzLZr8P+q5wQBMBsMsJmNsFrUgGvuoOhOR5546zOcdQdgFAQYBQGKDJx1B/DEW58lLgADatNMSZIgSRI++OADAMDUqVNjGoDeqhrcyLKbI7bZzUYcb4i92DJRvLWeWnD7ZU0L3eyrOocchxnNPhEBSYEgqHOkm/efjNjPZjZgzJAcjC/qh6uG5iDzgp+nRBEAGAxC8M7WAIvJCKvJ0GGVs2gdrXPDIKjHBoJ1IOQEF2Rfvnw5/v3vf2P48OERtSCSPQAXZDtQ2+SNWC/uCUgYlN27nsQShYiSDK8oweuX49aY0hOQcLSuGYoCBCRACqVABOWmWzB+WC7GD8vF1wqyYdGgNm53CQJgCE4nhOZvreb4PCyLl6gD8Mcff4w333wznmPRxaIJhVix9QDcfhF2sxGegISApGiSZE2kBUlWMxZ8ogSPX0ZAkuKy9Le+xR9uzfPhsYY2tQ5Cd5b5GTb83/euSPh8rkEAzEZ1OsFiNsBiNMBqiv+DvMJ+afiithmCogSroAGyAgzvn9b1N3ch6gB8+eWX49ChQygqKor5pL3JxOI8zDl+Fuv+eRQtfglpFiMWfHMo539JN5KswC+qc7iegAy/GJ+AqygKvqx3Y/ehOuw+fAafnWqKuJM2BNOxHBYjshwmSDIgygr+8+qhcQ++racTLEYDrGZ1/jbW6YSe+O/rirF4w0do9qt/DwYBSLcY8d/XFcd87KgD8KxZs3DzzTejX79+Eelnr7/+esyD0NOOg7XY9NEJ9HdacVHwDnjTRydw6aAsBmFKCJ+odobwBWT4RAkBSYaiIC6dIkKt1ncfrsOuw2dw8mxkax6HxYgxQ3JwdVEuxgzNwWcnm/DH96tQ3ehBfoYdt1xZgDGF2j98FwAYDerDcKvZALMxfrm3PWE1G+GXFIiyHM4R1kLUAfjBBx/Ez372M4wYMaJP1QNmFgQlkqIo8Ily8A5XrZ0rKUpcm1B21Wo9z2kN5ufm4rKCrHazBOIxvHDQtZrgMBthtxh7TcBtbU3ZEWTYzcjPPJ/RoVWMiDoA5+TkYPLkyTGdrDdiFgRdSMuke1lW4BMl+EQZ3uAdblcLILRwusmH8mC9hX3ttFovyksPporloigvvd3At/dIPVaXfgGTQUCGzYS6Fh9Wl36BJRjeo7vgUMC1mIywmdU7XJu5dwbd1qoa3DAKwJHTzfBLMixGA/qlWzSJEVEH4EsuuQT3338/Jk2aFDEFwSwI6ktiXZjT+oGZNzh/G6/phNYURcGRMy1qVbFOWq2PCwZdV0bX/cz++H4VTAYhXIEs9JD6j+9XRR2AQ3m4DqsRDrMp6bIUAMBpNeGL2mYYDQKMBgGirODEWS+G5yWwHKXP54PFYsGuXbsitid7AGYWBLW2puwI/KKEumYxfLfjtJk6/LgZqqkQ7wdm7RElGRXB+dzdh+pQ3Rh9q/VonGr0wCgAVQ2+iKXI1Y2eTr/PIAA2swkOizpXmohMhXgK17xp3RYZCe4J1xeWHbdnYnEeVkL9wTve4MYg1oJIaZ/XNOKsJwBZVn/OREmCV5QgBauCtZ7D9QTncBMxpRCiVav1aKRZTPiyrgUGgwBD8M6vptGHwbmR6Vfh1WaWYD2FLpb2Jptmv4SBWTacafaHfynnp1vbtEXqiS4D8G9+8xvceeedePTRR9v96PDQQw/FPAi9TSzOY8AlAIAnIEOS1flKe3Dpqt1shNNmwqlzHvijKGKjtdpGbzBrQbtW61Hp4M7PbOh7d7mdCU1TFvY/P+Xg9ovIS0Rb+mHDhgEARo0aFfPJiHo7h9mADJsZVrMBAVGGJyCh3u1HbaMXHg3ueKIRarUeCrpxabUehZaABFeGFec8AZiDUzEDMu2QFAUFOWl96i63M/GcpuwyAJeUlAAAbDYbpk2bFvHeW2+9FfMAiPR0YVqYIAg45wnA2xRZU8EU51gTTav1sYW5GDcsF1dq0Go9GiPynPAGRFwyIBN+Se0C3OD2IzfNmjLBF4jvYq2o/xbXrl3bJgC3t42oNwsveggufAhIkVkKjd4AfGLbCQajBh1wL9TsFbHnaB12HVJb87g7arU+LBejBmrbar09rRdD2C1GLJwwFMs3f4JPTjSGFyA4bSb8z7RL4jqO3mbHwVq89N6X8IsyBCjwizJeeu9LTRZrdRmAd+7cibKyMtTU1OCxxx4Lb29uboYx1uZQRHEky0rwzq3Voocu5m8dFhP8YiBiHyG4XQvV57zYffgMdrXTah0AvjrAifEJaLUeIgiAxaguN7ZfkCYmyVDr+wpqB3QI8U+n641C3aGNBgEmowGKAjS4A3jy7YPxD8AulwujRo1CaWkpRo4cGd6elpaG5cuXx3RyIq0oSjDYSsElve3c3UZjcE4aTIYWNPukcOpVutUYUYS8O3pjq/VQB4g0ixE2s6nDSmZryo4g027GgDisAEsmR860QFYUiK0+GRkEtPm77IkuA3BxcTGKi4txww03wGzWvs5nWVkZHn/8cciyjLlz52LhwoUR769fvx4bN26E0WhETk4OVq1ahYEDB2o+DkourQvWhFvsaLCkN9yCPN0Em9kAb0CGKCu45cqCqI8RTav1qwpzcPWwfvj6kPi3Wg8VtlGnFgywm01RTWdwlahKlJU2ud2ygnb76HVX1J+rKioq8Pzzz+PkyZMQRRGKokAQBGzfvr3HJ5ckCStXrsT69evhcrkwZ84clJSURFRcu+SSS/DnP/8Zdrsdf/jDH/Dzn/8czz77bI/PScnJL8rwSRL8AXVJb0/ubqPRugV5dwrQnPMEsOdoPXYfOoP3KxvgCUTO5w7Ktodb81wyIP6t1gUAJqMAu6XndRa4SlQldxBoO9reHd0qxrN8+XKMGjVKs2I8FRUVGDx4MAoK1LuL6dOnY/v27REBeOzYseH/vvzyy7F161ZNzk29lywrwQdlEryiDF8CCta0NqYwJ6qltl21Wv/qVzLCrXkuyo1/0BKg1ssNLfu1WWK7s+Yq0fiLOgA7nU5cc801mp68pqYG+fn54dculwsVFRUd7r9p0yZMmDBB0zGQ/hJ1dxsrWVHw7+om7DqkPkTrDa3WBajzyA6LEXaLCTYNpzO4SlRlNxvhDrTNAddi6ijqAHzVVVfhySefxNSpUyOK8bR+MBdPf/nLX/Dpp5/i5ZdfTsj5KD78ooyApP7x6XB32129tdV6KF3MaY39TjcavfSvJyFy0sxwn20bgHPSYn8m1q2WRADw6aefhrcJgoAXX3yxxyd3uVyorq4Ov66pqYHL5Wqz3+7du/HrX/8aL7/8ckTwp94t9KDML8q6TCX0VLSt1scP64fiAYlrtR5a/ptmNcJhie5BWixirQzXV3gCEgSgTWqit5274u6KOgC/9NJLMZ/sQqNHj0ZlZSWqqqrgcrmwbds2PP300xH7/Otf/8KKFSuwbt065Obmaj4G0k7rzg7egARRjl9nB60dq3cHq4qprdYvbM2jV6v1cNC1qA/SEtmSh80KVJ6ADAVq0A1FYgWAOyB3+n3RiDoAnzlzBr/4xS9QW1uLdevW4dChQ9i3bx/mzp3b85ObTFixYgUWLFgASZJw0003Yfjw4Vi9ejVGjRqFyZMn42c/+xncbjeWLFkCABgwYAB+/etf9/icpA09OjtoSZIVfHaqMTyfe7whssSinq3WDQLU7AWrEXad+qABTEMLCbT+BKR0sL2Hog7Ay5Ytw+zZs8PBb8iQIbj33ntjCsAAcM0117R5uBcKtgDwwgsvxHR8il1okYMoBXNvRVmXqmCx8gQkfFip5ue+d6QOZz2R87mhVuv9HFZ8eKwB/65pQqNHRJbNHJc+aK2pK9KMcNrUh2nttQVKNKahqQwGASaoucCKov5dGQV1e6yiDsANDQ24/vrrsXbtWvUbTaY+1RuOzt/VBmQZoigjICnhB2bJMpVwoVCr9V2Hz+CjY2fbtFov7J+G8cGHaMNd6fjgaIOmbXg6E8rVTbeaNM9g0ALT0FRDcx04dLoFZoMQbksvKQqGapBaGHUAdjgcaGhoCCdz79+/H06nM+YBkD78ogxRkiHKMvxiMPD20vSv7oim1fplBVkYH2zN03qZLaBNG56uGAQgzWoOz+v21hY98awClkyWTbsEd2/4CC2t2tKnWYxYpkFRom5NQfzgBz/AsWPHcMstt6ChoQGrV6+OeQAUX61rJASCS3b9Gi3b7S26arWeZjFiTLA1z5ihOXDaOp7PPdXoQYYt8sfCZjZ02YanK62nGBwWk27zut2x42AtNn10Av2dVlwU/EW06aMTmlQBSzY2sxGBVm3ptfq0EnUAPnbsGNatW4dTp07hnXfeQUVFBSQpMQWqKTqtpxD8ATlcw7UvBdsQLVqtt2dAhh11Lb6IJHtvQEZ+Rs8yH0KFzO2W5OsawSwIVa9oS/9///d/mDZtGs6dO4c9e/Zg/vz5eOSRR7Bx48aYBkA9c2Gw9QUXOCTbg7Hu0KLVelduubIAT75zEDVNXsiyAoNBQJrFhB9OLOr6m4MEAbCbTUi3GZFmMfXaKYauMAtCFc/rEHUADtX+3blzJ7773e9i4sSJLIqTIOFgK52fQujrwRaIrtX6ZQVZ4aCbF0Wr9ehPHmyJ1o0LbDIISLOakG4zJd3dbnuYBaGK53WIOgC7XC6sWLECu3btwp133gm/3w9Zjj0PjiKFiogHRBk+qed1bZNVuNX6IfVOV+tW61354/tVSLea0D/9fJ+1zh7CCQLgMJuQZlML4GiRmtRbMAtCpWtPuJBnn30W//jHP/Cf//mfyMjIQG1tLR544IGYB5DKQlW/wnURRCmpU756qsUnqvO5h9pvtZ6fYcP4IvUuN9ZW612J9iGc0aCmj/WVu932sBiPqlf0hLPb7Zg6dWr4dV5eHvLyUusvIhaSrCAgyvBLUjDtKzWDbUi0rdbHD8tFoZat1rvQ0UO4QVkOGIPzwXaL2qq+L93tdmRicV7KBdwLxTMbJP6tVVNQqAiNemd7/r9TNdgCvafVeldCHTE8AQkOiwEGwYD+TivuKilCQbYjJYIuRYpnNggDcIxaV/wK9SNLpiI0re09Uo8/vl+FU40eDIiyE0RnApKMj6vOYlcnrdavKlRTxb6RoFbrXRlTmIP7DCPw1qen0OQTkZtmwW1jLsKEi1P7LjCV9YosCFK1rvjVl6YR9h6p12QJbm9rtd4dJoMAh9WEGZd/BXO70QOuL9txsBZryo6gqsGNghSdA+4VWRCpqN3WOH009SuWJbi9rdV6dwiC+pEyzdr3shhixXrAql6RBZEKxFbZCL4krfjVU91Zghttq/XxwTvdRLRa7y6zMZTFYG6zSo53fSquhFPFMxuEAbiV2iafJlXuk1FXS3C7arWeaTdjbAJbrfdE65zdjlao8a7vvKoGN4wCcOR0M/ySDIvRgH7plpRbCQfELxuEAbgVpa8VTOiG1k//bWYDvAH1E8AIVzoeef0A3j+qf6v1njIZBKTbTEizdp2zy7u+89ItRhw63QKjIMAoCBAlBSfOelHUP03voSVcvD4VMQBDvbgvln+J6kYPLEZjzE//k9GYwhwswXD8vrwSxxvckBXA7Zfw6ofHw/sIAEZ+JQPji/phfGFuQlqt91TobtdhMyKtG3O7rH9wXvgTghD8AwAKetUcfiLE81NRygfg0MXNtKsdZk+e88atAHdvJCsKDp5qCj9Eu7DVutVkwDeGZGP8sMS1Wu+pUIv2dKsJDmvPukqw/sF5TT4RA7NsONPsD09B5GdY26xU7OuYBxxHoYtrN5uCVay0L8Dd2/gCEj48ps7n9qZW6z0VSh9Lt8Teop31D84L/TIq7J8e3ub2i8hzalj0KAkwDziO2ru4WhTg7m3Ouv0oP1KP3Z20Wg+15klkq/We6ukUQ1dY/+A8/jJSFWQ7cPRMM5q8YviTgNNmwtB+6V1/cxdSPgC395EzlgLcvUlXrdZHD8wMtuZJbKv1WJgMApy29tPHtML6Byr+MlKNK8zB3sp6GAT158YvyTjd7MdtY2L/hJzyATj0W94TEOEI/pYXZQW3JOFKqNat1ncfrkNVL2q1HotQgfM0je92KXqpmx8ElB+pR57TgkbP+TvgDLsJ5UfqsTjGY6d8AA79ln+x/EvUNHqQm2ZNqiwIb0DCh182YNehDlqtp6mt1scX5eJrBdmwmHp/L7KQ7qSPkfaYE62qanAjN82Kfunn574VReEcsFZCHzlPNLjhE3t/kflQq/Xdh+vw4bGGtq3W+6WFSzmOcPX++dzW1EwGIzLsJqRZeLerJ+ZEq1gLIsXF2mo9GQgCkGYxBRtY8p9lb8CcaBVrQaQgSVbw6Um1NU97rdYdFiPGDMnB1UVdt1rvzULTDOlWc1JNj6QC5kSrWAsiRbj9Ij6oVPNz32un1Xr/dGt4auHybrRaj5bW9YA7YhAAe7ACWTJ3De7rmIZ2HmtB9FFnmn0oD3aJ6KjVupqf2/NW69HQqh5wR7RYpUaJFc9eaKRiAE4wRVFw9EwLdgUfov27uuNW6+OG5cKlZav1TsRSD7gzoT5q6dbYV6lRYsWzFxqpGIATQO9W69HoTj3grggArGYjnDYTHBZTr62SRp1jFkT8MQDHSYtPxN6j9dh9WP9W69Hoqh5wNMJ3uzYTbL28fgR1jVkQ8ccADO3KUdY0esP5ufvba7We7wyniiWy1Xo02qsHHO2KQLNRgNNmRrrVpPsvEtIOsyDiL+UDcCzlKKNttT5+WC7G6dhqPRqhesB/fL8K1Y0e5HeRBREqhpNuM8FhMfaqXyakDWZBxF/KB+DulqNMxlbr0RpTmNPpLx0BgCnYS83B5cF9HovxxJ/u0aGsrAyPP/44ZFnG3LlzsXDhwoj3/X4/HnjgARw4cABZWVl45plnMGjQIM3OH+p7VVnXDIMg4JwngGyHOeLhU6jV+u7Dddh7tB4tSdRqXQtGg/ogJs1ihD0F7nbZlPM8VoZTPfe3z9uk4y3+9oiYj6trAJYkCStXrsT69evhcrkwZ84clJSUoKioKLzPxo0bkZGRgb/+9a/Ytm0bnnrqKTz77LOajcFpNeGL2mZk2M2wmQFRVlDT6MNXsuzY/NFx7D5ch4/babV+yQCnGnR7Yat1LQgCYDMb1bvdFMpkYAGaSPxlpAbf1aWHYBAAk0GdB19deggAYg7CugbgiooKDB48GAUF6oOe6dOnY/v27REBuLS0FHfddRcA4Nprr8XKlSuhKIpmAS/UiFORFfgDCiRJgQygqsGD5/9+OLxfqNX61cP6YVwvbbUeKwGA2WgIzuuaUnJpMFOvzuMvI9W6fx4NBl/158EgAKIsY90/jyZ3AK6pqUF+fn74tcvlQkVFRZt9BgwYAAAwmUxwOp1oaGhATo42S2Sb/RLynBZUN/pwwU1uUrRa14LRICBNo5Y+yY6pV+fxl5GqxS/hwnsRg4A2U5E9ofscsN4Ksh04fLo5HHzNRgE2kxGuDBt+9b0r+uxHb0OwyLnWLX2SHVOvzuMvI1WaRX0w3/pHRFbU7bHS9TOmy+VCdXV1+HVNTQ1cLlebfU6dOgUAEEURTU1NyM7O1mwMiyYUwmoyYGiuA5cOzEB+hg3pNhMWfHNonwu+AgCryYjcNAsGZjvgyrTBaTUz+LayaEIhApICt1+EoqhfUzX1qiDbAU8g8i4vFX8ZLfjmUMiKOu0gK3Lwq7o9VroG4NGjR6OyshJVVVXw+/3Ytm0bSkpKIvYpKSnBa6+9BgB45513MHbsWE0feE0szsOjM0dhaL90SLKC3DQrlpT0rZb0JoOATLsZA7LsGJhtR6bDwmI4HZhYnIeVN45EntOGc54A8pw2rLxxZEp95A7hLyPV4m+PwJKSItjNRoiy+ilgSUmRJlkQghJ6CqWTnTt3YtWqVZAkCTfddBN+8IMfYPXq1Rg1ahQmT54Mn8+HpUuX4rPPPkNmZiaeeeaZ8EO7jsyePRubN2/u9liSpSNGNAyCOmeXZuVCCeq5UBYE84DjQ/cAHA+pGoBDUwxqVwkjlwUT9XIp/xCuLwhnMVhZBIcomTAAJ6lQgXOnzYQ0q7nPPTAkSgUMwEnGIABpFjPSbUY2ryRKcvwJTgKCEJzbtXJul6gvYQDuxcysPEbUpzEA9zJCcIWak3V2ifo8BuBewiAA6Vazru18WPmKKLE4magzk0FAtsOMgdkO9HNadQ2+K7YeQG2TN6Ly1Y6DtbqMhygVMADrQF0wYUD/dCsGZTuQnWbVfWlw68pXgqB+NRsFrCk7ouu4iPoyTkEkUOv53TQdWs93hpWviBKvd0WBPioZ2rWzDCNR4nEKIk5C0wy5aRYMzLLrOr8bDVa+Iko83gFrLNTAMt2aXCvV2AGXKPGSJ0L0YmpdBiMybOqiiWSty8AOuESJxQAcA1YhI6JYMAD3gMWoViFLt7EKGRH1HANwlAQANota7DwtmCtLRBQLBuAu9IYlwkTUNzEAd8BkEMLTDHqvUiOivokBuBVBEGA1GZFhV6cZ2K6diOKJARhqIZr1uyrR5Asgy27B7eMGMx2LiOIu5T9bh6qAHT/rhl+U8WV9C6uAEVFCpHwAZhUwItJLygfgqgY37BdkN7AKGBElQsoH4IJsBzwBKWIbq4ARUSKkfABmFTAi0kvKB+CJxXlYeeNI5DltOOcJIM9pw8obRzILgojijmloYBUwItJHyt8BExHphQGYiEgnDMBERDphACYi0gkDMBGRTnQLwGfPnsX3v/99TJ06Fd///vdx7ty5Nvt89tlnuPnmmzF9+nTMmDEDb775pg4jJSKKD90C8Nq1azFu3Di8++67GDduHNauXdtmH5vNhieffBLbtm3DunXrsGrVKjQ2NuowWiIi7ekWgLdv345Zs2YBAGbNmoW//e1vbfYZOnQohgwZAgBwuVzIyclBfX19AkdJRBQ/ugXguro65OWpix/69++Purq6TvevqKhAIBDARRddlIjhERHFXVxXwt1xxx04c+ZMm+333HNPxGtBEDptcllbW4ulS5fiySefhMHA54ZEibLjYC3WlB1BVYMbBdkOLJpQyFWjGoprAH7hhRc6fC83Nxe1tbXIy8tDbW0tcnJy2t2vubkZixYtwr333ovLL788PgMlojZCzQrMRgFZdjNqm7xYsfUAVgIMwhrR7XaypKQEW7ZsAQBs2bIFkydPbrOP3+/HD3/4Q8ycORPXXXddgkdIlNrYrCD+dAvACxcuxK5duzB16lTs3r0bCxcuBAB88sknePDBBwEAb731Fj744AO89tprmDlzJmbOnInPPvtMryETpRQ2K4g/QVEURe9BaG327NnYvHmz3sMgSmq3rn0PtU1eOCznZyrdfhF5Ths2LByr48j6Dj7RIqJ2sVlB/DEAE1G72Kwg/liQHUy1IeoImxXEV8rfAYdSbWqbvBGpNjsO1uo9NCLq41I+ADPVhoj0kvIBmKk2RKSXlA/ABdkOeAJSxDZPQMKgbIdOIyKiVJHyAZipNkSkl5QPwEy1ISK9MA0NTLUhIn2k/B0wEZFeGICJiHTCAExEpBMGYCIinTAAExHphAGYiEgnTEMDq6ERkT5S/g6Y1dCISC8pH4BZDY2I9JLyAZjV0IhILykfgFkNjYj0kvIBmNXQiEgvKR+AWQ2NiPTCNDSwGhoR6SPl74CJiPTCAExEpBMGYCIinTAAExHphAGYiEgnDMBERDphACYi0gkDMBGRThiAiYh0IiiKoug9CK1dddVVGDhwoN7DICICAGRnZ+O3v/1tm+19MgATESUDTkEQEemEAZiISCcMwEREOmEAJiLSCQMwEZFOGICJiHSScgF4+fLlGDduHG644YZ231cUBY899himTJmCGTNm4MCBAwkfw549e/D1r38dM2fOxMyZM/H8889rPoZTp05h3rx5uP766zF9+nT8/ve/b7NPvK9FNGOI97Xw+XyYM2cObrzxRkyfPh3PPfdcm338fj/uueceTJkyBXPnzsXx48cTPobNmzdj7Nix4euwceNGTccQIkkSZs2ahUWLFrV5L97XIdpxJOJalJSUYMaMGZg5cyZmz57d5n3NfjaUFLN3717l008/VaZPn97u+zt27FDmz5+vyLKs7Nu3T5kzZ07Cx/Dee+8pCxcu1Py8rdXU1CiffvqpoiiK0tTUpEydOlX54osvIvaJ97WIZgzxvhayLCvNzc2KoiiK3+9X5syZo+zbty9in5dffll5+OGHFUVRlDfeeENZsmRJwsfw5z//WfnJT36i6Xnb87vf/U6577772r3m8b4O0Y4jEddi0qRJSl1dXYfva/WzkXJ3wFdeeSUyMzM7fH/79u2YNWsWBEHA5ZdfjsbGRtTW1iZ0DImQl5eHkSNHAgDS09NRWFiImpqaiH3ifS2iGUO8CYKAtLQ0AIAoihBFEYIgROxTWlqK73znOwCAa6+9FuXl5VA0XL8UzRgSobq6Gjt27MCcOXPafT/e1yHacfQGWv1spFwA7kpNTQ3y8/PDr/Pz8xMeFABg//79uPHGG7FgwQJ88cUXcT3X8ePH8dlnn+Gyyy6L2J7Ia9HRGID4XwtJkjBz5kyMHz8e48ePb/c6DBgwAABgMpngdDrR0NCQ0DEAwLvvvosZM2Zg8eLFOHXqlKbnB4BVq1Zh6dKlMBjaDwuJuA7RjAOI/7UAgPnz52P27Nn405/+1OY9rX42GIB7oZEjR6K0tBRbt27FvHnz8MMf/jBu52ppacHixYvxP//zP0hPT4/beXo6hkRcC6PRiL/85S/YuXMnKioq8Pnnn2t+jljHMGnSJJSWluL111/H+PHj8d///d+anv/vf/87cnJyMGrUKE2PG49xxPtaAMCGDRvw2muv4Te/+Q1eeeUVvP/++5qfA2AAbsPlcqG6ujr8urq6Gi6XK6FjSE9PD38kveaaayCKIurr6zU/TyAQwOLFizFjxgxMnTq1zfuJuBZdjSFR1wIAMjIycNVVV+Ef//hHxHaXyxW+yxJFEU1NTcjOzk7oGLKzs2GxWAAAc+fO1fyB6EcffYTS0lKUlJTgvvvuw3vvvYcf/ehHEfsk4jpEM454XwsA4X/nubm5mDJlCioqKtq8r8XPBgPwBUpKSrBlyxYoioL9+/fD6XQiLy8voWM4ffp0eG6toqICsixr/g9dURQ8+OCDKCwsxPe///1294n3tYhmDPG+FvX19WhsbAQAeL1e7N69G4WFhRH7lJSU4LXXXgMAvPPOOxg7dqymc7TRjKH1/GJpaSmGDRum2fkB4P7770dZWRlKS0vxi1/8AmPHjsVTTz0VsU+8r0O044j3tXC73Whubg7/965duzB8+PCIfbT62TBpMuIkct9992Hv3r1oaGjAhAkTcPfdd0MURQDArbfeimuuuQY7d+7ElClTYLfbsWrVqoSP4Z133sGGDRtgNBphs9nwi1/8QvN/6B9++CH+8pe/YMSIEZg5c2Z4XCdPngyPI97XIpoxxPta1NbWYtmyZZAkCYqi4LrrrsOkSZOwevVqjBo1CpMnT8acOXOwdOlSTJkyBZmZmXjmmWc0O3+0Y3jppZdQWloKo9GIzMxM/PSnP9V0DB1J5HWIdhzxvhZ1dXXhqS5JknDDDTdgwoQJ2LBhAwBtfzZYjpKISCecgiAi0gkDMBGRThiAiYh0wgBMRKQTBmAiIp0wABMR6YQBmPqEF154AR6PJ6Hn3LNnDz766KPw6w0bNmDLli0JHQMlNwZg6hNefPHFbgdgSZK63Ce0QKY9e/fuxb59+8Kvb731VsyaNatbY6DUxoUYlHTcbjfuueceVFdXQ5ZlXHfddfj1r3+NoUOHIisrCy+99BJ+/OMf45NPPoHP58O1116LxYsXA1CXkE6bNg27d+/GggULMH369DbHnzdvHoqLi/Hhhx/ihhtuwJAhQ/CrX/0KgUAAWVlZeOqpp+D1enHzzTfDYDAgJycHDz/8MMrLy+FwODB//nzMmzcPl156Kfbs2YOmpiY8/vjj+MY3vgGPx4Nly5bhiy++wNChQ1FbW4sVK1Zg9OjRib6M1Auk3FJkSn7/+Mc/kJeXh7Vr1wIAmpqasHnzZvz+979HTk4OAODee+9FVlYWJEnCHXfcgYMHD6K4uBgAkJWVFa5p0JFAIIDNmzcDAM6dO4dXX30VgiBg48aNWLduHZYtW4ZbbrklHHABoLy8POIYkiRh06ZN2LlzJ55//nm88MIL+MMf/oDMzEy8+eab+Pzzz3nHnOIYgCnpjBgxAk8++SR+/vOfY9KkSfjGN77RZp+33noLr776KkRRxOnTp3H48OFwAL7++uu7PEfrfaqrq3Hvvffi9OnT8Pv9GDRoUFTjnDJlCgC1pOaJEycAqPUvbr/99vD/j4svvjiqY1HfxABMSWfo0KHYvHkzdu7ciWeffRZjx46NeL+qqgq/+93vsGnTJmRmZmLZsmXw+Xzh9+12e5fnaL3PY489hjvuuAOTJ0/Gnj17ou5LFyqZaDAYoppvptTDh3CUdGpqamC32zFz5kzMnz8f//rXv5CWloaWlhYAaoF3u90Op9OJM2fOoKysLKbzNTU1hWu9ts5yaH3OaF1xxRV46623AACHDh3Spfg79R68A6ak8/nnn+NnP/sZDAYDTCYTHnnkEezfvx8LFixAXl4eXnrpJXz1q1/FtGnTkJ+fjyuuuCKm8911111YsmQJMjMzcdVVV4W7AU+aNAmLFy/G9u3b8fDDD0d1rNtuuw3Lli3D9ddfj8LCQhQVFcHpdMY0PkpezIIgSiBJkiCKIqxWK44dO4Y77rgDb7/9dni6glIL74CJEsjj8eD222+HKIpQFAU//vGPGXxTGO+AKWX95Cc/iVjJBgC33347brrpJp1GRKmGAZiISCfMgiAi0gkDMBGRThiAiYh0wgBMRKST/w9Y6u5sPq8A7wAAAABJRU5ErkJggg==\n",
       "datasetInfos": [],
       "metadata": {},
       "removedWidgets": [],
       "type": "image"
      }
     },
     "output_type": "display_data"
    }
   ],
   "source": [
    "import seaborn as sns\n",
    "# Take the order total column and convert to a Pandas dataframe\n",
    "df = test_results.select('star_rating', 'sentiment_score').toPandas() \n",
    "\n",
    "# Set the style for Seaborn plots\n",
    "sns.set_style(\"white\")\n",
    "\n",
    "# Create the relationship plot\n",
    "lmp = sns.lmplot(x='star_rating', y='sentiment_score', data=df)"
   ]
  },
  {
   "cell_type": "code",
   "execution_count": null,
   "metadata": {
    "application/vnd.databricks.v1+cell": {
     "cellMetadata": {
      "byteLimit": 2048000,
      "rowLimit": 10000
     },
     "inputWidgets": {},
     "nuid": "61fbb956-74e8-49b0-a85f-d91ab0acb659",
     "showTitle": false,
     "title": ""
    }
   },
   "outputs": [],
   "source": [
    "img_data = io.BytesIO()\n",
    "lmp.savefig(img_data, format='png', bbox_inches='tight')\n",
    "img_data.seek(0)\n",
    "s3 = s3fs.S3FileSystem(anon=False)\n",
    "with s3.open('s3://4130semesterprojectas/model/lmplot.png', 'wb') as f:\n",
    " f.write(img_data.getbuffer())"
   ]
  },
  {
   "cell_type": "code",
   "execution_count": null,
   "metadata": {
    "application/vnd.databricks.v1+cell": {
     "cellMetadata": {
      "byteLimit": 2048000,
      "rowLimit": 10000
     },
     "inputWidgets": {},
     "nuid": "51f4ae55-9adb-4014-90b3-db62c13318d0",
     "showTitle": false,
     "title": ""
    }
   },
   "outputs": [],
   "source": [
    "#display(Image(data=img_data.getvalue()))"
   ]
  },
  {
   "cell_type": "code",
   "execution_count": null,
   "metadata": {
    "application/vnd.databricks.v1+cell": {
     "cellMetadata": {
      "byteLimit": 2048000,
      "rowLimit": 10000
     },
     "inputWidgets": {},
     "nuid": "24a4b8e8-e476-469d-b682-01512ba52f25",
     "showTitle": false,
     "title": ""
    }
   },
   "outputs": [
    {
     "data": {
      "image/png": "[encoded data removed]"
     },
     "metadata": {
      "application/vnd.databricks.v1+output": {
       "addedWidgets": {},
       "arguments": {},
       "data": "data:image/png;base64,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\n",
       "datasetInfos": [],
       "metadata": {},
       "removedWidgets": [],
       "type": "image"
      }
     },
     "output_type": "display_data"
    }
   ],
   "source": [
    "import seaborn as sns\n",
    "import matplotlib.pyplot as plt\n",
    "# Take the order total column and convert to a Pandas dataframe\n",
    "df1 = test_results.select('star_rating').toPandas() \n",
    "# Set the style for Seaborn plots\n",
    "sns.set_style(\"white\")\n",
    "# Create the distribution plot\n",
    "distribution_plot = sns.displot(df1)"
   ]
  },
  {
   "cell_type": "code",
   "execution_count": null,
   "metadata": {
    "application/vnd.databricks.v1+cell": {
     "cellMetadata": {
      "byteLimit": 2048000,
      "rowLimit": 10000
     },
     "inputWidgets": {},
     "nuid": "abb5308a-e12e-445c-9367-12ebeb729bbc",
     "showTitle": false,
     "title": ""
    }
   },
   "outputs": [],
   "source": [
    "img_data = io.BytesIO()\n",
    "distribution_plot.savefig(img_data, format='png', bbox_inches='tight')\n",
    "img_data.seek(0)\n",
    "s3 = s3fs.S3FileSystem(anon=False)\n",
    "with s3.open('s3://4130semesterprojectas/model/distribution_plot.png', 'wb') as f:\n",
    " f.write(img_data.getbuffer())"
   ]
  },
  {
   "cell_type": "code",
   "execution_count": null,
   "metadata": {
    "application/vnd.databricks.v1+cell": {
     "cellMetadata": {
      "byteLimit": 2048000,
      "rowLimit": 10000
     },
     "inputWidgets": {},
     "nuid": "693a01ed-134b-4a5a-8ea0-0aef3dc66982",
     "showTitle": false,
     "title": ""
    }
   },
   "outputs": [],
   "source": [
    "from pyspark.ml.stat import Correlation\n",
    "vector_column = \"correlation_features\"\n",
    "numeric_columns  = [\"sentiment_score\", \"star_rating\", \"helpful_votes\", \"binary_rating\"]\n",
    "\n",
    "assembler = VectorAssembler(inputCols=numeric_columns, outputCol=vector_column)\n",
    "sdf_vector = assembler.transform(rdf).select(vector_column)\n",
    "\n",
    "matrix = Correlation.corr(sdf_vector, vector_column).collect()[0][0]\n",
    "correlation_matrix = matrix.toArray().tolist()\n",
    "correlation_matrix_df = pd.DataFrame(data=correlation_matrix, columns=numeric_columns,index=numeric_columns)"
   ]
  },
  {
   "cell_type": "code",
   "execution_count": null,
   "metadata": {
    "application/vnd.databricks.v1+cell": {
     "cellMetadata": {
      "byteLimit": 2048000,
      "rowLimit": 10000
     },
     "inputWidgets": {},
     "nuid": "18f067c3-7370-4084-9276-72d8bf9c6c88",
     "showTitle": false,
     "title": ""
    }
   },
   "outputs": [
    {
     "data": {
      "image/png": "[encoded data removed]"
     },
     "metadata": {
      "application/vnd.databricks.v1+output": {
       "addedWidgets": {},
       "arguments": {},
       "data": "data:image/png;base64,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\n",
       "datasetInfos": [],
       "metadata": {},
       "removedWidgets": [],
       "type": "image"
      }
     },
     "output_type": "display_data"
    }
   ],
   "source": [
    "sns.set_style(\"white\")\n",
    "# Crate the plot using Seaborn\n",
    "# plt.figure(figsize=(16,5))\n",
    "fig, ax = plt.subplots(figsize = (16,8))\n",
    "hm = sns.heatmap(correlation_matrix_df, xticklabels=correlation_matrix_df.columns.values, yticklabels=correlation_matrix_df.columns.values, cmap=\"Greens\", annot=True, ax=ax)\n",
    "plt.title('Correlation Matrix')\n",
    "\n",
    "# Get the content of the current figure\n",
    "figure = hm.get_figure()\n"
   ]
  },
  {
   "cell_type": "code",
   "execution_count": null,
   "metadata": {
    "application/vnd.databricks.v1+cell": {
     "cellMetadata": {
      "byteLimit": 2048000,
      "rowLimit": 10000
     },
     "inputWidgets": {},
     "nuid": "bf64709c-95bc-4216-8662-2d27c011e298",
     "showTitle": false,
     "title": ""
    }
   },
   "outputs": [],
   "source": [
    "img_data = io.BytesIO()\n",
    "# Write the figure to the buffer\n",
    "figure.savefig(img_data, format='png', bbox_inches='tight')\n",
    "# Rewind the pointer to the start of the data\n",
    "img_data.seek(0)\n",
    "s3 = s3fs.S3FileSystem(anon=False)\n",
    "with s3.open('s3://4130semesterprojectas/model/correlation_plot.png', 'wb') as f:\n",
    "   f.write(img_data.getbuffer())"
   ]
  },
  {
   "cell_type": "code",
   "execution_count": null,
   "metadata": {
    "application/vnd.databricks.v1+cell": {
     "cellMetadata": {
      "byteLimit": 2048000,
      "rowLimit": 10000
     },
     "inputWidgets": {},
     "nuid": "601fa19e-ea76-449b-8732-83d44912457c",
     "showTitle": false,
     "title": ""
    }
   },
   "outputs": [],
   "source": [
    "#display(Image(data=img_data.getvalue()))"
   ]
  }
 ],
 "metadata": {
  "application/vnd.databricks.v1+notebook": {
   "dashboards": [],
   "language": "python",
   "notebookMetadata": {
    "pythonIndentUnit": 4
   },
   "notebookName": "cleanercode",
   "widgets": {}
  },
  "language_info": {
   "name": "python"
  }
 },
 "nbformat": 4,
 "nbformat_minor": 0
}
